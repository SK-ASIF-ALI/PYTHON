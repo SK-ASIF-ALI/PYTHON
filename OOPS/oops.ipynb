{
 "cells": [
  {
   "cell_type": "markdown",
   "metadata": {},
   "source": [
    "### Inheritance in Python"
   ]
  },
  {
   "cell_type": "markdown",
   "metadata": {},
   "source": [
    "#### Inheritance allows us to define a class that inherits all the methods and properties from another class."
   ]
  },
  {
   "cell_type": "code",
   "execution_count": 54,
   "metadata": {},
   "outputs": [
    {
     "name": "stdout",
     "output_type": "stream",
     "text": [
      "Hi this is a constructor\n",
      "Hi this is a constructor\n",
      "SK ASIF ALI\n"
     ]
    }
   ],
   "source": [
    "class car:\n",
    "    name=\"SK ASIF ALI\"\n",
    "    \n",
    "    def __init__(self):\n",
    "        print(\"Hi this is a constructor\")\n",
    "        \n",
    "a=car()\n",
    "b=car()\n",
    "print(b.name) ##Accessing the Class attributes using objects\n",
    "##When ever we try to call the class it will automatically call the defualt constructor"
   ]
  },
  {
   "cell_type": "code",
   "execution_count": 25,
   "metadata": {},
   "outputs": [
    {
     "name": "stdout",
     "output_type": "stream",
     "text": [
      "This car name is Honda\n"
     ]
    }
   ],
   "source": [
    "class car:\n",
    "    \n",
    "    def __init__(self,car):\n",
    "        self.name='This car name is '+car\n",
    "        print(self.name)\n",
    "c=car('Honda')\n",
    "\n",
    "### This is basically a parameterized constructor\n",
    "        "
   ]
  },
  {
   "cell_type": "code",
   "execution_count": 26,
   "metadata": {},
   "outputs": [
    {
     "name": "stdout",
     "output_type": "stream",
     "text": [
      "Welcome To Car Dekho\n",
      "The car name  Honda Car model 2021\n"
     ]
    }
   ],
   "source": [
    "class car:\n",
    "    def __init__(self,name):\n",
    "        self.name=name\n",
    "        print(\"Welcome To Car Dekho\")\n",
    "    def details(self):\n",
    "        print(\"The car name \",self.name,'Car model 2021',sep=' ')\n",
    "              \n",
    "c=car(\"Honda\")\n",
    "c.details()"
   ]
  },
  {
   "cell_type": "markdown",
   "metadata": {},
   "source": [
    "#### Inheritance"
   ]
  },
  {
   "cell_type": "markdown",
   "metadata": {},
   "source": [
    "##### Single Inheritance"
   ]
  },
  {
   "cell_type": "code",
   "execution_count": 28,
   "metadata": {},
   "outputs": [
    {
     "name": "stdout",
     "output_type": "stream",
     "text": [
      "This is Child\n",
      "Property of parent\n"
     ]
    }
   ],
   "source": [
    "class parent:\n",
    "    def __init__(self):\n",
    "        print(\"This is Parent Class\")\n",
    "    def pro(self):\n",
    "        print(\"Property of parent\")\n",
    "class child(parent):\n",
    "    def __init__(self):\n",
    "        print(\"This is Child\")\n",
    "k=child()\n",
    "k.pro()"
   ]
  },
  {
   "cell_type": "markdown",
   "metadata": {},
   "source": [
    "#### On the above program we can see that the parenet class has pro function. The child class has inherited the parent class.so when calling function of parent class child class object wa used"
   ]
  },
  {
   "cell_type": "markdown",
   "metadata": {},
   "source": [
    "##### Multiple Inheritance"
   ]
  },
  {
   "cell_type": "code",
   "execution_count": 31,
   "metadata": {},
   "outputs": [
    {
     "name": "stdout",
     "output_type": "stream",
     "text": [
      "\n",
      "Father : sk nur ali\n",
      "Mother : Ruksana\n"
     ]
    }
   ],
   "source": [
    "class mom:\n",
    "    mother=''\n",
    "    def __init__(self):\n",
    "        print(self.mother)\n",
    "class pop:\n",
    "    fath=''\n",
    "    def __init__(self):\n",
    "        print(self.fath)\n",
    "class son(mom,pop):\n",
    "    def parent(self):\n",
    "        print(\"Father :\",self.fath)\n",
    "        print(\"Mother :\",self.mother)\n",
    "        \n",
    "s=son()\n",
    "s.mother=\"Ruksana\"  ##Accessing the mother class attribute\n",
    "s.fath=\"sk nur ali\" ## Accessing the father class atttribute\n",
    "s.parent()"
   ]
  },
  {
   "cell_type": "markdown",
   "metadata": {},
   "source": [
    "#### Multi-level Inheritance"
   ]
  },
  {
   "cell_type": "code",
   "execution_count": 38,
   "metadata": {},
   "outputs": [
    {
     "name": "stdout",
     "output_type": "stream",
     "text": [
      "Myself : Asif\n",
      "Father : Nur\n",
      "Mother : Ruksana\n"
     ]
    }
   ],
   "source": [
    "class mom:\n",
    "    mother=''\n",
    "    def __init__(self,momn): ##Invoking self with one argument\n",
    "        self.momn=momn\n",
    "class pop(mom):\n",
    "    fath=''\n",
    "    def __init__(self,fathn,momn):\n",
    "        self.fathn=fathn\n",
    "        mom.__init__(self,momn) ##Invoking the mom class with momn argument\n",
    "class son(pop):\n",
    "    def __init__(self,son_name,fathn,momn):\n",
    "        self.son_name=son_name\n",
    "        pop.__init__(self,fathn,momn) ##Invoking the father class with two arguments\n",
    "    def parent(self):\n",
    "        print(\"Myself :\",self.son_name)\n",
    "        print(\"Father :\",self.fathn)\n",
    "        print(\"Mother :\",self.momn)\n",
    "        \n",
    "s=son('Asif','Nur','Ruksana')\n",
    "s.parent()"
   ]
  },
  {
   "cell_type": "markdown",
   "metadata": {},
   "source": [
    "### In the above program we can see that how clearly we are accessing the values of different classes"
   ]
  },
  {
   "cell_type": "markdown",
   "metadata": {},
   "source": [
    "#### Hierchical Inhertance"
   ]
  },
  {
   "cell_type": "code",
   "execution_count": 53,
   "metadata": {},
   "outputs": [
    {
     "name": "stdout",
     "output_type": "stream",
     "text": [
      "This is class c\n",
      "Class a fun1\n",
      "This is class b\n",
      "Class a fun1\n"
     ]
    }
   ],
   "source": [
    "class a:\n",
    "    def __init__(self):\n",
    "        print(\"This is class a\")\n",
    "    def fun1(self):\n",
    "        print('Class a fun1')\n",
    "class b(a):\n",
    "    def __init__(self):\n",
    "        print(\"This is class b\")\n",
    "    def fun2(self):\n",
    "        print('Class a fun2')\n",
    "\n",
    "class c(a):\n",
    "    def __init__(self):\n",
    "        print(\"This is class c\")\n",
    "    def fun3(self):\n",
    "        print('Class a fun3')\n",
    "        \n",
    "obj1=c()\n",
    "obj1.fun1() ## Access the class a via class c\n",
    "\n",
    "\n",
    "\n",
    "obj2=b()\n",
    "obj2.fun1() ## Access the class a via class b\n",
    "\n",
    "# obj2.fun3() ## Can't execute this line"
   ]
  },
  {
   "cell_type": "code",
   "execution_count": null,
   "metadata": {},
   "outputs": [],
   "source": []
  }
 ],
 "metadata": {
  "kernelspec": {
   "display_name": "Python 3",
   "language": "python",
   "name": "python3"
  },
  "language_info": {
   "codemirror_mode": {
    "name": "ipython",
    "version": 3
   },
   "file_extension": ".py",
   "mimetype": "text/x-python",
   "name": "python",
   "nbconvert_exporter": "python",
   "pygments_lexer": "ipython3",
   "version": "3.7.9"
  }
 },
 "nbformat": 4,
 "nbformat_minor": 4
}
